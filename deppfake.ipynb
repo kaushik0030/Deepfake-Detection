{
 "cells": [
  {
   "cell_type": "code",
   "execution_count": 1,
   "metadata": {},
   "outputs": [
    {
     "name": "stdout",
     "output_type": "stream",
     "text": [
      "WARNING:tensorflow:From c:\\Users\\palla\\AppData\\Local\\Programs\\Python\\Python310\\lib\\site-packages\\keras\\src\\losses.py:2976: The name tf.losses.sparse_softmax_cross_entropy is deprecated. Please use tf.compat.v1.losses.sparse_softmax_cross_entropy instead.\n",
      "\n",
      "Using CPU\n"
     ]
    }
   ],
   "source": [
    "import os\n",
    "import numpy as np\n",
    "import cv2\n",
    "import pickle\n",
    "from sklearn.model_selection import train_test_split\n",
    "from tensorflow.keras.utils import to_categorical\n",
    "from tensorflow.keras.models import Sequential\n",
    "from tensorflow.keras.layers import Conv2D, MaxPooling2D, Flatten, Dense, Dropout\n",
    "import tensorflow as tf\n",
    "\n",
    "# Ensure TensorFlow uses GPU if available\n",
    "def configure_device():\n",
    "    gpus = tf.config.experimental.list_physical_devices('GPU')\n",
    "    if gpus:\n",
    "        try:\n",
    "            for gpu in gpus:\n",
    "                tf.config.experimental.set_memory_growth(gpu, True)\n",
    "            print(\"Using GPU\")\n",
    "        except RuntimeError as e:\n",
    "            print(e)\n",
    "    else:\n",
    "        print(\"Using CPU\")\n",
    "\n",
    "configure_device()"
   ]
  },
  {
   "cell_type": "code",
   "execution_count": null,
   "metadata": {},
   "outputs": [],
   "source": [
    "def load_images_and_labels(dataset_path, img_size=(128, 128)):\n",
    "    \"\"\"\n",
    "    Load images and labels from the dataset directory structure.\n",
    "    Expects subfolders \"FAKE\" and \"REAL\" under each dataset split (\"train\", \"test\").\n",
    "    \"\"\"\n",
    "    images, labels = [], []\n",
    "    for label, folder_name in enumerate([\"REAL\", \"FAKE\"]):  # 1 for REAL, 0 for FAKE\n",
    "        folder_path = os.path.join(dataset_path, folder_name)\n",
    "        if not os.path.exists(folder_path):\n",
    "            print(f\"Warning: Folder not found - {folder_path}\")\n",
    "            continue\n",
    "        for filename in os.listdir(folder_path):\n",
    "            img_path = os.path.join(folder_path, filename)\n",
    "            img = cv2.imread(img_path)\n",
    "            if img is not None:\n",
    "                img = cv2.resize(img, img_size)\n",
    "                images.append(img)\n",
    "                labels.append(label)\n",
    "    return np.array(images), np.array(labels)\n",
    "\n",
    "# Paths for the train and test datasets\n",
    "train_dataset_path = 'Minor Project/Dataset/train'\n",
    "test_dataset_path = 'Minor Project/Dataset/test'\n",
    "\n",
    "# Load train and test datasets\n",
    "x_train, y_train = load_images_and_labels(train_dataset_path)\n",
    "x_test, y_test = load_images_and_labels(test_dataset_path)"
   ]
  }
 ],
 "metadata": {
  "kernelspec": {
   "display_name": "Python 3",
   "language": "python",
   "name": "python3"
  },
  "language_info": {
   "codemirror_mode": {
    "name": "ipython",
    "version": 3
   },
   "file_extension": ".py",
   "mimetype": "text/x-python",
   "name": "python",
   "nbconvert_exporter": "python",
   "pygments_lexer": "ipython3",
   "version": "3.10.6"
  }
 },
 "nbformat": 4,
 "nbformat_minor": 2
}
